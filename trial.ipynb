{
 "cells": [
  {
   "cell_type": "code",
   "execution_count": 17,
   "metadata": {},
   "outputs": [
    {
     "name": "stdout",
     "output_type": "stream",
     "text": [
      "                                  Open         High          Low        Close  \\\n",
      "Date                                                                            \n",
      "2024-03-18 00:00:00+05:30  2840.000000  2883.449951  2833.050049  2878.949951   \n",
      "2024-03-19 00:00:00+05:30  2857.500000  2875.199951  2834.500000  2850.500000   \n",
      "2024-03-20 00:00:00+05:30  2855.899902  2890.000000  2848.050049  2887.500000   \n",
      "2024-03-21 00:00:00+05:30  2905.050049  2915.800049  2889.350098  2901.949951   \n",
      "2024-03-22 00:00:00+05:30  2899.949951  2920.000000  2894.699951  2910.050049   \n",
      "\n",
      "                            Volume  Dividends  Stock Splits  \n",
      "Date                                                         \n",
      "2024-03-18 00:00:00+05:30  4584696        0.0           0.0  \n",
      "2024-03-19 00:00:00+05:30  4137882        0.0           0.0  \n",
      "2024-03-20 00:00:00+05:30  4244403        0.0           0.0  \n",
      "2024-03-21 00:00:00+05:30  6503468        0.0           0.0  \n",
      "2024-03-22 00:00:00+05:30  9763420        0.0           0.0  \n",
      "Return Metrics:\n",
      "Average Daily Return: 0.0012121425994610078\n",
      "Volatility (Standard Deviation of Daily Returns): 0.02984994848406029\n"
     ]
    }
   ],
   "source": [
    "import yfinance as yf\n",
    "import matplotlib.pyplot as plt\n",
    "import plotly.graph_objs as go\n",
    "\n",
    "def stock_data_stats(ticker_symbol):\n",
    "    try:\n",
    "\n",
    "        stock_data = yf.Ticker(ticker_symbol)\n",
    "\n",
    "        historical_data = stock_data.history(period=\"max\")\n",
    "        print(historical_data.tail())\n",
    "        \n",
    "        # Calculate and print return and risk metrics\n",
    "        returns = historical_data['Close'].pct_change()\n",
    "        average_daily_return = returns.mean()\n",
    "        volatility = returns.std()\n",
    "        \n",
    "        print(\"Return Metrics:\")\n",
    "        print(\"Average Daily Return:\", average_daily_return)\n",
    "        print(\"Volatility (Standard Deviation of Daily Returns):\", volatility)\n",
    "        \n",
    "    except Exception as e:\n",
    "        print(\"Error fetching or plotting data:\", e)\n",
    "\n",
    "# Example usage:\n",
    "ticker_symbol = \"RELIANCE.NS\"  # Change this to the ticker symbol of the Indian stock you want to analyze\n",
    "stock_data_stats(ticker_symbol)\n"
   ]
  },
  {
   "cell_type": "code",
   "execution_count": 18,
   "metadata": {},
   "outputs": [],
   "source": [
    "# import yfinance as yf\n",
    "\n",
    "# def stock_data_stats_for_years(ticker_symbol, years):\n",
    "#     try:\n",
    "#         stock_data = yf.Ticker(ticker_symbol)\n",
    "#         t=\"{}y\".format(years)\n",
    "#         historical_data = stock_data.history(period=t)\n",
    "#         historical_data[\"Intraday_max_return\"] = (historical_data[\"High\"] - historical_data[\"Low\"])/historical_data[\"Close\"]\n",
    "#         print(\"Last {} years data:\". format(years))\n",
    "#         returns = historical_data['Close'].pct_change()\n",
    "#         average_daily_return_intraday = historical_data[\"Intraday_max_return\"].mean()\n",
    "#         average_daily_volatility_intraday = historical_data[\"Intraday_max_return\"].std()\n",
    "#         average_daily_return = returns.mean()\n",
    "#         volatility = returns.std()\n",
    "#         print(\"\\nReturn Metrics:\")\n",
    "#         print(\"Average Daily Return:\", average_daily_return)\n",
    "#         print(\"Volatility (Standard Deviation of Daily Returns):\", volatility)\n",
    "#         print(\"Average Daily Return for Intraday: \", average_daily_return_intraday)\n",
    "#         print(\"Average Daily volatility for intraday: \", average_daily_volatility_intraday)\n",
    "#     except Exception as e:\n",
    "#         print(\"Error fetching or analyzing data:\", e)\n",
    "\n",
    "# ticker_symbol = \"RELIANCE.NS\"  # Change this to the ticker symbol of the Indian stock you want to analyze\n",
    "# stock_data_stats(ticker_symbol, 5)\n"
   ]
  },
  {
   "cell_type": "code",
   "execution_count": 20,
   "metadata": {},
   "outputs": [
    {
     "data": {
      "text/html": [
       "<div>\n",
       "<style scoped>\n",
       "    .dataframe tbody tr th:only-of-type {\n",
       "        vertical-align: middle;\n",
       "    }\n",
       "\n",
       "    .dataframe tbody tr th {\n",
       "        vertical-align: top;\n",
       "    }\n",
       "\n",
       "    .dataframe thead th {\n",
       "        text-align: right;\n",
       "    }\n",
       "</style>\n",
       "<table border=\"1\" class=\"dataframe\">\n",
       "  <thead>\n",
       "    <tr style=\"text-align: right;\">\n",
       "      <th></th>\n",
       "      <th>Sr. No</th>\n",
       "      <th>Symbol</th>\n",
       "      <th>Company Name</th>\n",
       "    </tr>\n",
       "  </thead>\n",
       "  <tbody>\n",
       "    <tr>\n",
       "      <th>0</th>\n",
       "      <td>1</td>\n",
       "      <td>RELIANCE</td>\n",
       "      <td>Reliance Industries Limited</td>\n",
       "    </tr>\n",
       "    <tr>\n",
       "      <th>1</th>\n",
       "      <td>2</td>\n",
       "      <td>TCS</td>\n",
       "      <td>Tata Consultancy Services Limited</td>\n",
       "    </tr>\n",
       "    <tr>\n",
       "      <th>2</th>\n",
       "      <td>3</td>\n",
       "      <td>HDFCBANK</td>\n",
       "      <td>HDFC Bank Limited</td>\n",
       "    </tr>\n",
       "    <tr>\n",
       "      <th>3</th>\n",
       "      <td>4</td>\n",
       "      <td>ICICIBANK</td>\n",
       "      <td>ICICI Bank Limited</td>\n",
       "    </tr>\n",
       "    <tr>\n",
       "      <th>4</th>\n",
       "      <td>5</td>\n",
       "      <td>INFY</td>\n",
       "      <td>Infosys Limited</td>\n",
       "    </tr>\n",
       "  </tbody>\n",
       "</table>\n",
       "</div>"
      ],
      "text/plain": [
       "  Sr. No     Symbol                       Company Name\n",
       "0      1   RELIANCE        Reliance Industries Limited\n",
       "1      2        TCS  Tata Consultancy Services Limited\n",
       "2      3   HDFCBANK                  HDFC Bank Limited\n",
       "3      4  ICICIBANK                 ICICI Bank Limited\n",
       "4      5       INFY                    Infosys Limited"
      ]
     },
     "execution_count": 20,
     "metadata": {},
     "output_type": "execute_result"
    }
   ],
   "source": [
    "import pandas as pd \n",
    "from src.f_get_stats_for_stock_based_on_y_years_past_data import stock_data_stats_for_years\n",
    "df = pd.read_excel(\"Data\\\\2023-12\\MCAP31122023_0.xlsx\")\n",
    "df.head()"
   ]
  },
  {
   "cell_type": "code",
   "execution_count": null,
   "metadata": {},
   "outputs": [],
   "source": []
  },
  {
   "cell_type": "code",
   "execution_count": 21,
   "metadata": {},
   "outputs": [],
   "source": [
    "import time \n",
    "from datetime import date\n",
    "def top_200_companies(number_of_companies, number_of_years):\n",
    "    x= date.today()\n",
    "    company_name = []\n",
    "    daily_return =[]\n",
    "    risk=[]\n",
    "    for i in range(len(df)):\n",
    "        company_name.append(df[\"Company Name\"][i])\n",
    "        a,b = stock_data_stats_for_years(str(df[\"Symbol\"][i])+ \".NS\",number_of_years)\n",
    "        daily_return.append(a)\n",
    "        risk.append(b)\n",
    "    dict= pd.DataFrame({\"company_name\": company_name, \"return\": daily_return, \"risk\": risk})\n",
    "    df2 = dict.sort_values(by=[\"return\"], ascending= False)\n",
    "    dict = df2.iloc[:number_of_companies]\n",
    "    dict.to_csv(x+\".csv\", index= False)\n",
    "    \n",
    "    "
   ]
  },
  {
   "cell_type": "code",
   "execution_count": null,
   "metadata": {},
   "outputs": [],
   "source": []
  },
  {
   "cell_type": "code",
   "execution_count": null,
   "metadata": {},
   "outputs": [],
   "source": []
  }
 ],
 "metadata": {
  "kernelspec": {
   "display_name": "my_env",
   "language": "python",
   "name": "python3"
  },
  "language_info": {
   "codemirror_mode": {
    "name": "ipython",
    "version": 3
   },
   "file_extension": ".py",
   "mimetype": "text/x-python",
   "name": "python",
   "nbconvert_exporter": "python",
   "pygments_lexer": "ipython3",
   "version": "3.11.8"
  }
 },
 "nbformat": 4,
 "nbformat_minor": 2
}
